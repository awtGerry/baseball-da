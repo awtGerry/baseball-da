{
  "cells": [
    {
      "cell_type": "markdown",
      "id": "26fdf249",
      "metadata": {},
      "source": [
        "# Análisis de estadísticas de equipos de la MLB\n",
        "En este notebook, analizaremos estadísticas básicas y avanzadas de equipos de la MLB para los últimos 5 años."
      ]
    },
    {
      "cell_type": "code",
      "execution_count": 2,
      "id": "6f0c933d",
      "metadata": {},
      "outputs": [],
      "source": [
        "import pandas as pd\n",
        "import numpy as np\n",
        "import requests\n",
        "from bs4 import BeautifulSoup\n",
        "import warnings\n",
        "warnings.filterwarnings('ignore')"
      ]
    },
    {
      "cell_type": "markdown",
      "id": "da2bcac2",
      "metadata": {},
      "source": [
        "## Función para obtener datos de equipos\n",
        "La siguiente función recupera estadísticas básicas de equipos de la MLB para un año específico usando la base de datos de Lahman."
      ]
    },
    {
      "cell_type": "code",
      "execution_count": 12,
      "id": "cf11b44b",
      "metadata": {},
      "outputs": [],
      "source": [
        "# Función para cargar y filtrar datos\n",
        "def load_and_filter_data(years):\n",
        "    \"\"\"\n",
        "    Carga el archivo CSV de Lahman y selecciona las columnas relevantes.\n",
        "    \"\"\"\n",
        "    teams_path = \"../data/raw/Teams.csv\"\n",
        "    \n",
        "    try:\n",
        "        df = pd.read_csv(teams_path)\n",
        "        # Filtramos por años\n",
        "        df = df[df['yearID'].isin(years)]\n",
        "        # Seleccionamos las columnas relevantes\n",
        "        # cols = ['yearID', 'teamID', 'W', 'L', 'R', 'AB', 'H', 'BB', 'SO', 'HR', 'ER'] # basicas\n",
        "        cols = ['yearID', 'teamID', 'W', 'L', 'R', 'AB', 'H', 'BB', 'SO',\n",
        "               'HR', 'ER', '2B', '3B', 'HBP', 'SF', 'IPouts', 'HA', 'BBA',\n",
        "               'SOA', 'E']\n",
        "        return df[cols]\n",
        "    except Exception as e:\n",
        "        print(f\"Error cargando los datos: {e}\")\n",
        "        return None"
      ]
    },
    {
      "cell_type": "markdown",
      "id": "24d94956",
      "metadata": {},
      "source": [
        "## Función para calcular métricas avanzadas\n",
        "Calculamos métricas avanzadas como OBP, SLG, OPS y porcentaje de bases por bolas."
      ]
    },
    {
      "cell_type": "code",
      "execution_count": 13,
      "id": "8325c9ec",
      "metadata": {},
      "outputs": [],
      "source": [
        "def calculate_metrics(df):\n",
        "    \"\"\"\n",
        "    Calcula métricas de béisbol basadas en estadísticas básicas\n",
        "    \"\"\"\n",
        "    # Calculamos OBP (On Base Percentage)\n",
        "    df['OBP'] = (df['H'] + df['BB']) / (df['AB'] + df['BB'])\n",
        "    \n",
        "    # Calculamos SLG (Slugging Percentage)\n",
        "    df['SLG'] = (df['H'] + df['HR'] * 3) / df['AB']\n",
        "    \n",
        "    # Calculamos OPS\n",
        "    df['OPS'] = df['OBP'] + df['SLG']\n",
        "    \n",
        "    # Calculamos BB% (Base on Balls Percentage)\n",
        "    df['BB%'] = df['BB'] / (df['AB'] + df['BB']) * 100\n",
        "    \n",
        "    return df\n",
        "\n",
        "def calculate_advanced_metrics(df):\n",
        "    \"\"\"\n",
        "    Calcula métricas avanzadas de béisbol basadas en estadísticas básicas\n",
        "    \"\"\"\n",
        "    # Métricas Ofensivas\n",
        "    # ------------------\n",
        "    \n",
        "    # Singles (1B) = Hits - (2B + 3B + HR)\n",
        "    df['1B'] = df['H'] - (df['2B'] + df['3B'] + df['HR'])\n",
        "    \n",
        "    # Total Bases (TB)\n",
        "    df['TB'] = df['1B'] + (2 * df['2B']) + (3 * df['3B']) + (4 * df['HR'])\n",
        "    \n",
        "    # Batting Average (AVG)\n",
        "    df['AVG'] = df['H'] / df['AB']\n",
        "    \n",
        "    # On-Base Percentage (OBP)\n",
        "    df['PA'] = df['AB'] + df['BB'] + df['HBP'] + df['SF']  # Plate Appearances\n",
        "    df['OBP'] = (df['H'] + df['BB'] + df['HBP']) / df['PA']\n",
        "    \n",
        "    # Slugging Percentage (SLG)\n",
        "    df['SLG'] = df['TB'] / df['AB']\n",
        "    \n",
        "    # On-base Plus Slugging (OPS)\n",
        "    df['OPS'] = df['OBP'] + df['SLG']\n",
        "    \n",
        "    # Base on Balls Percentage (BB%)\n",
        "    df['BB%'] = df['BB'] / df['PA'] * 100\n",
        "    \n",
        "    # Strike Out Percentage (K%)\n",
        "    df['K%'] = df['SO'] / df['PA'] * 100\n",
        "    \n",
        "    # ISO (Isolated Power)\n",
        "    df['ISO'] = df['SLG'] - df['AVG']\n",
        "    \n",
        "    # Métricas Defensivas y Pitcheo\n",
        "    # -----------------------------\n",
        "    \n",
        "    # Innings Pitched (IP)\n",
        "    df['IP'] = df['IPouts'] / 3\n",
        "    \n",
        "    # Earned Run Average (ERA)\n",
        "    df['ERA'] = (df['ER'] * 9) / df['IP']\n",
        "    \n",
        "    # WHIP (Walks and Hits per Inning Pitched)\n",
        "    df['WHIP'] = (df['HA'] + df['BBA']) / df['IP']\n",
        "    \n",
        "    # K/9 (Strikeouts per 9 innings)\n",
        "    df['K/9'] = (df['SOA'] * 9) / df['IP']\n",
        "    \n",
        "    # BB/9 (Walks per 9 innings)\n",
        "    df['BB/9'] = (df['BBA'] * 9) / df['IP']\n",
        "    \n",
        "    # K/BB Ratio\n",
        "    df['K/BB'] = df['SOA'] / df['BBA']\n",
        "    \n",
        "    # Métricas de Equipo\n",
        "    # -----------------\n",
        "    \n",
        "    # Winning Percentage\n",
        "    df['WIN%'] = df['W'] / (df['W'] + df['L'])\n",
        "    \n",
        "    # Runs per Game\n",
        "    df['R/G'] = df['R'] / (df['W'] + df['L'])\n",
        "    \n",
        "    # Defensive Efficiency Ratio (DER)\n",
        "    # (1 - ((H - HR) + E) / (AB - K - HR + SF))\n",
        "    df['DER'] = 1 - ((df['HA'] - df['HR'] + df['E']) / \n",
        "                     (df['AB'] - df['SO'] - df['HR'] + df['SF']))\n",
        "    \n",
        "    return df"
      ]
    },
    {
      "cell_type": "markdown",
      "id": "d90c1044",
      "metadata": {},
      "source": [
        "## Recolectar y procesar datos\n",
        "Analizamos los datos de los últimos 5 años, calculamos métricas avanzadas y combinamos los resultados."
      ]
    },
    {
      "cell_type": "markdown",
      "id": "89ae7858",
      "metadata": {},
      "source": [
        "## Mostrar resultados\n",
        "Revisamos una muestra de los datos procesados, estadísticas descriptivas y valores faltantes."
      ]
    },
    {
      "cell_type": "code",
      "execution_count": 14,
      "id": "ea42a4dc",
      "metadata": {
        "scrolled": true
      },
      "outputs": [
        {
          "name": "stdout",
          "output_type": "stream",
          "text": [
            "Datos procesados y guardados exitosamente.\n",
            "Muestra de los datos:\n"
          ]
        },
        {
          "name": "stdout",
          "output_type": "stream",
          "text": ["\n", "Valores faltantes por columna:\n"]
        },
        {
          "data": {
            "text/plain": [
              "yearID    0\n",
              "teamID    0\n",
              "W         0\n",
              "L         0\n",
              "R         0\n",
              "AB        0\n",
              "H         0\n",
              "BB        0\n",
              "SO        0\n",
              "HR        0\n",
              "ER        0\n",
              "2B        0\n",
              "3B        0\n",
              "HBP       0\n",
              "SF        0\n",
              "IPouts    0\n",
              "HA        0\n",
              "BBA       0\n",
              "SOA       0\n",
              "E         0\n",
              "1B        0\n",
              "TB        0\n",
              "AVG       0\n",
              "PA        0\n",
              "OBP       0\n",
              "SLG       0\n",
              "OPS       0\n",
              "BB%       0\n",
              "K%        0\n",
              "ISO       0\n",
              "IP        0\n",
              "ERA       0\n",
              "WHIP      0\n",
              "K/9       0\n",
              "BB/9      0\n",
              "K/BB      0\n",
              "WIN%      0\n",
              "R/G       0\n",
              "DER       0\n",
              "dtype: int64"
            ]
          },
          "metadata": {},
          "output_type": "display_data"
        }
      ],
      "source": [
        "# Años para los cuales queremos procesar los datos\n",
        "years = range(2019, 2024)\n",
        "\n",
        "# Cargar y procesar datos\n",
        "data = load_and_filter_data(years)\n",
        "if data is not None:\n",
        "    # data = calculate_metrics(data)\n",
        "    data = calculate_advanced_metrics(data)\n",
        "    # Guardar el resultado\n",
        "    data.to_csv(\"../data/processed/team_stats.csv\", index=False)\n",
        "    print(\"Datos procesados y guardados exitosamente.\")\n",
        "\n",
        "    # Mostrar muestra de los datos procesados\n",
        "    print(\"Muestra de los datos:\")\n",
        "    display(data.head())\n",
        "\n",
        "    # Estadísticas básicas\n",
        "    print(\"\\nEstadísticas descriptivas:\")\n",
        "    display(data.describe())\n",
        "    \n",
        "    # Verificar si existen valores faltantes\n",
        "    print(\"\\nValores faltantes por columna:\")\n",
        "    display(data.isnull().sum())\n",
        "else:\n",
        "    print(\"No se pudieron procesar los datos.\")"
      ]
    },
    {
      "cell_type": "code",
      "execution_count": null,
      "id": "2c0daeda",
      "metadata": {},
      "outputs": [],
      "source": []
    }
  ],
  "metadata": {
    "kernelspec": {
      "display_name": "Python 3 (ipykernel)",
      "language": "python",
      "name": "python3"
    },
    "language_info": {
      "codemirror_mode": {
        "name": "ipython",
        "version": 3
      },
      "file_extension": ".py",
      "mimetype": "text/x-python",
      "name": "python",
      "nbconvert_exporter": "python",
      "pygments_lexer": "ipython3",
      "version": "3.10.13"
    }
  },
  "nbformat": 4,
  "nbformat_minor": 5
}

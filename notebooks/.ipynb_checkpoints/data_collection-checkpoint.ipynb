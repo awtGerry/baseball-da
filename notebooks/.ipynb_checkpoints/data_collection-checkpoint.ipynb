{
 "cells": [
  {
   "cell_type": "markdown",
   "id": "26fdf249",
   "metadata": {},
   "source": [
    "# Análisis de estadísticas de equipos de la MLB\n",
    "En este notebook, analizaremos estadísticas básicas y avanzadas de equipos de la MLB para los últimos 5 años."
   ]
  },
  {
   "cell_type": "code",
   "execution_count": 1,
   "id": "6f0c933d",
   "metadata": {},
   "outputs": [],
   "source": [
    "import pandas as pd\n",
    "import numpy as np\n",
    "import requests\n",
    "from bs4 import BeautifulSoup\n",
    "import warnings\n",
    "warnings.filterwarnings('ignore')"
   ]
  },
  {
   "cell_type": "markdown",
   "id": "da2bcac2",
   "metadata": {},
   "source": [
    "## Función para obtener datos de equipos\n",
    "La siguiente función recupera estadísticas básicas de equipos de la MLB para un año específico usando la base de datos de Lahman."
   ]
  },
  {
   "cell_type": "code",
   "execution_count": null,
   "id": "cf11b44b",
   "metadata": {},
   "outputs": [],
   "source": [
    "def get_team_stats(year):\n",
    "    \"\"\"\n",
    "    Obtiene estadísticas básicas de equipos de la MLB para un año específico\n",
    "    usando la Lahman Baseball Database\n",
    "    \"\"\"\n",
    "    # URL base para los datos de Lahman\n",
    "    url = f\"http://www.seanlahman.com/files/database/Teams{year}.csv\"\n",
    "    \n",
    "    try:\n",
    "        df = pd.read_csv(url)\n",
    "        # Seleccionamos las columnas relevantes\n",
    "        cols = ['teamID', 'W', 'L', 'R', 'AB', 'H', 'BB', 'SO', 'HR', 'ER']\n",
    "        return df[cols]\n",
    "    except:\n",
    "        print(f\"Error obteniendo datos para {year}\")\n",
    "        return None"
   ]
  },
  {
   "cell_type": "markdown",
   "id": "24d94956",
   "metadata": {},
   "source": [
    "## Función para calcular métricas avanzadas\n",
    "Calculamos métricas avanzadas como OBP, SLG, OPS y porcentaje de bases por bolas."
   ]
  },
  {
   "cell_type": "code",
   "execution_count": null,
   "id": "8325c9ec",
   "metadata": {},
   "outputs": [],
   "source": [
    "def calculate_advanced_metrics(df):\n",
    "    \"\"\"\n",
    "    Calcula métricas avanzadas de béisbol basadas en estadísticas básicas\n",
    "    \"\"\"\n",
    "    # Calculamos OBP (On Base Percentage)\n",
    "    df['OBP'] = (df['H'] + df['BB']) / (df['AB'] + df['BB'])\n",
    "    \n",
    "    # Calculamos SLG (Slugging Percentage)\n",
    "    df['SLG'] = (df['H'] + df['HR'] * 3) / df['AB']\n",
    "    \n",
    "    # Calculamos OPS\n",
    "    df['OPS'] = df['OBP'] + df['SLG']\n",
    "    \n",
    "    # Calculamos BB% (Base on Balls Percentage)\n",
    "    df['BB%'] = df['BB'] / (df['AB'] + df['BB']) * 100\n",
    "    \n",
    "    return df"
   ]
  },
  {
   "cell_type": "markdown",
   "id": "d90c1044",
   "metadata": {},
   "source": [
    "## Recolectar y procesar datos\n",
    "Analizamos los datos de los últimos 5 años, calculamos métricas avanzadas y combinamos los resultados."
   ]
  },
  {
   "cell_type": "code",
   "execution_count": null,
   "id": "ea42a4dc",
   "metadata": {},
   "outputs": [],
   "source": [
    "years = range(2019, 2024)\n",
    "all_data = []\n",
    "\n",
    "for year in years:\n",
    "    df = get_team_stats(year)\n",
    "    if df is not None:\n",
    "        df['Year'] = year\n",
    "        df = calculate_advanced_metrics(df)\n",
    "        all_data.append(df)\n",
    "\n",
    "# Combinamos todos los datos\n",
    "final_df = pd.concat(all_data, ignore_index=True)\n",
    "\n",
    "# Guardamos los datos procesados\n",
    "final_df.to_csv('../data/processed/team_stats.csv', index=False)"
   ]
  },
  {
   "cell_type": "markdown",
   "id": "89ae7858",
   "metadata": {},
   "source": [
    "## Mostrar resultados\n",
    "Revisamos una muestra de los datos procesados, estadísticas descriptivas y valores faltantes."
   ]
  },
  {
   "cell_type": "code",
   "execution_count": null,
   "id": "cabd404c",
   "metadata": {},
   "outputs": [],
   "source": [
    "# Mostramos las primeras filas de los datos\n",
    "print(\"Muestra de los datos recolectados:\")\n",
    "display(final_df.head())\n",
    "\n",
    "# Estadísticas básicas\n",
    "print(\"\\nEstadísticas descriptivas:\")\n",
    "display(final_df.describe())\n",
    "\n",
    "# Verificamos valores faltantes\n",
    "print(\"\\nValores faltantes por columna:\")\n",
    "display(final_df.isnull().sum())"
   ]
  }
 ],
 "metadata": {
  "kernelspec": {
   "display_name": "Python 3 (ipykernel)",
   "language": "python",
   "name": "python3"
  },
  "language_info": {
   "codemirror_mode": {
    "name": "ipython",
    "version": 3
   },
   "file_extension": ".py",
   "mimetype": "text/x-python",
   "name": "python",
   "nbconvert_exporter": "python",
   "pygments_lexer": "ipython3",
   "version": "3.10.13"
  }
 },
 "nbformat": 4,
 "nbformat_minor": 5
}

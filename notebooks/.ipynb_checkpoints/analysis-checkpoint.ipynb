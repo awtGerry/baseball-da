{
 "cells": [
  {
   "cell_type": "markdown",
   "id": "f3aab445",
   "metadata": {},
   "source": [
    "# Análisis de Datos de Equipos de Béisbol"
   ]
  },
  {
   "cell_type": "code",
   "execution_count": 1,
   "id": "bdaa4672",
   "metadata": {},
   "outputs": [
    {
     "ename": "ModuleNotFoundError",
     "evalue": "No module named 'seaborn'",
     "output_type": "error",
     "traceback": [
      "\u001b[0;31m---------------------------------------------------------------------------\u001b[0m",
      "\u001b[0;31mModuleNotFoundError\u001b[0m                       Traceback (most recent call last)",
      "Cell \u001b[0;32mIn[1], line 4\u001b[0m\n\u001b[1;32m      2\u001b[0m \u001b[38;5;28;01mimport\u001b[39;00m \u001b[38;5;21;01mnumpy\u001b[39;00m \u001b[38;5;28;01mas\u001b[39;00m \u001b[38;5;21;01mnp\u001b[39;00m\n\u001b[1;32m      3\u001b[0m \u001b[38;5;28;01mimport\u001b[39;00m \u001b[38;5;21;01mmatplotlib\u001b[39;00m\u001b[38;5;21;01m.\u001b[39;00m\u001b[38;5;21;01mpyplot\u001b[39;00m \u001b[38;5;28;01mas\u001b[39;00m \u001b[38;5;21;01mplt\u001b[39;00m\n\u001b[0;32m----> 4\u001b[0m \u001b[38;5;28;01mimport\u001b[39;00m \u001b[38;5;21;01mseaborn\u001b[39;00m \u001b[38;5;28;01mas\u001b[39;00m \u001b[38;5;21;01msns\u001b[39;00m\n\u001b[1;32m      5\u001b[0m \u001b[38;5;28;01mfrom\u001b[39;00m \u001b[38;5;21;01mscipy\u001b[39;00m \u001b[38;5;28;01mimport\u001b[39;00m stats\n\u001b[1;32m      7\u001b[0m \u001b[38;5;66;03m# Configuración de estilo para las gráficas\u001b[39;00m\n",
      "\u001b[0;31mModuleNotFoundError\u001b[0m: No module named 'seaborn'"
     ]
    }
   ],
   "source": [
    "import pandas as pd\n",
    "import numpy as np\n",
    "import matplotlib.pyplot as plt\n",
    "import seaborn as sns\n",
    "from scipy import stats\n",
    "\n",
    "# Configuración de estilo para las gráficas\n",
    "plt.style.use('seaborn')\n",
    "sns.set_palette(\"husl\")\n",
    "plt.rcParams['figure.figsize'] = (12, 8)\n"
   ]
  },
  {
   "cell_type": "markdown",
   "id": "58126857",
   "metadata": {},
   "source": [
    "## Carga de Datos"
   ]
  },
  {
   "cell_type": "code",
   "execution_count": null,
   "id": "3ca6d74e",
   "metadata": {},
   "outputs": [],
   "source": [
    "\n",
    "# Cargar los datos procesados\n",
    "df = pd.read_csv(\"../data/processed/team_stats.csv\")\n"
   ]
  },
  {
   "cell_type": "markdown",
   "id": "1cc01152",
   "metadata": {},
   "source": [
    "## 1. Análisis de la Hipótesis Principal: BB% vs Producción de Carreras"
   ]
  },
  {
   "cell_type": "code",
   "execution_count": null,
   "id": "b11f8390",
   "metadata": {},
   "outputs": [],
   "source": [
    "\n",
    "plt.figure(figsize=(10, 6))\n",
    "sns.regplot(data=df, x='BB%', y='R/G', scatter_kws={'alpha':0.5})\n",
    "plt.title('Relación entre BB% y Carreras por Juego')\n",
    "plt.xlabel('Porcentaje de Base por Bolas (BB%)')\n",
    "plt.ylabel('Carreras por Juego (R/G)')\n",
    "\n",
    "# Calcular correlación y p-value\n",
    "correlation = stats.pearsonr(df['BB%'], df['R/G'])\n",
    "print(f\"Correlación entre BB% y R/G: {correlation[0]:.3f}\")\n",
    "print(f\"P-value: {correlation[1]:.3f}\")\n"
   ]
  },
  {
   "cell_type": "markdown",
   "id": "8c1125a1",
   "metadata": {},
   "source": [
    "## 2. Análisis de OPS vs Batting Average como Predictores"
   ]
  },
  {
   "cell_type": "code",
   "execution_count": null,
   "id": "231231ff",
   "metadata": {},
   "outputs": [],
   "source": [
    "\n",
    "fig, (ax1, ax2) = plt.subplots(1, 2, figsize=(15, 6))\n",
    "\n",
    "# OPS vs WIN%\n",
    "sns.regplot(data=df, x='OPS', y='WIN%', ax=ax1)\n",
    "ax1.set_title('OPS vs Porcentaje de Victorias')\n",
    "\n",
    "# AVG vs WIN%\n",
    "sns.regplot(data=df, x='AVG', y='WIN%', ax=ax2)\n",
    "ax2.set_title('Promedio de Bateo vs Porcentaje de Victorias')\n",
    "\n",
    "# Calcular correlaciones\n",
    "ops_corr = stats.pearsonr(df['OPS'], df['WIN%'])\n",
    "avg_corr = stats.pearsonr(df['AVG'], df['WIN%'])\n",
    "\n",
    "print(\"\\nCorrelación OPS vs WIN%:\", ops_corr[0].round(3))\n",
    "print(\"Correlación AVG vs WIN%:\", avg_corr[0].round(3))\n"
   ]
  },
  {
   "cell_type": "markdown",
   "id": "edb63e1b",
   "metadata": {},
   "source": [
    "## 3. Análisis de WHIP y Playoffs"
   ]
  },
  {
   "cell_type": "code",
   "execution_count": null,
   "id": "3937fdc6",
   "metadata": {},
   "outputs": [],
   "source": [
    "\n",
    "# Asumimos que equipos con WIN% > 0.550 generalmente llegan a playoffs\n",
    "df['Playoffs'] = df['WIN%'] > 0.550\n",
    "\n",
    "plt.figure(figsize=(10, 6))\n",
    "sns.boxplot(data=df, x='Playoffs', y='WHIP')\n",
    "plt.title('Distribución de WHIP para Equipos de Playoffs vs No Playoffs')\n",
    "\n",
    "# T-test para WHIP entre equipos de playoffs y no playoffs\n",
    "playoffs_whip = df[df['Playoffs']]['WHIP']\n",
    "no_playoffs_whip = df[~df['Playoffs']]['WHIP']\n",
    "ttest_result = stats.ttest_ind(playoffs_whip, no_playoffs_whip)\n",
    "\n",
    "print(\"\\nT-test para WHIP entre equipos de playoffs y no playoffs:\")\n",
    "print(f\"T-statistic: {ttest_result[0]:.3f}\")\n",
    "print(f\"P-value: {ttest_result[1]:.3f}\")\n"
   ]
  },
  {
   "cell_type": "markdown",
   "id": "58fd5283",
   "metadata": {},
   "source": [
    "## 4. Matriz de Correlación para Métricas Principales"
   ]
  },
  {
   "cell_type": "code",
   "execution_count": null,
   "id": "13680d29",
   "metadata": {},
   "outputs": [],
   "source": [
    "\n",
    "metrics = ['WIN%', 'R/G', 'OPS', 'BB%', 'ISO', 'WHIP', 'ERA', 'K/9', 'DER']\n",
    "correlation_matrix = df[metrics].corr()\n",
    "\n",
    "plt.figure(figsize=(12, 10))\n",
    "sns.heatmap(correlation_matrix, annot=True, cmap='coolwarm', center=0, fmt='.2f')\n",
    "plt.title('Matriz de Correlación de Métricas Principales')\n"
   ]
  },
  {
   "cell_type": "markdown",
   "id": "3e8c0429",
   "metadata": {},
   "source": [
    "## 5. Tendencias a lo largo del tiempo"
   ]
  },
  {
   "cell_type": "code",
   "execution_count": null,
   "id": "b65a7f46",
   "metadata": {},
   "outputs": [],
   "source": [
    "\n",
    "yearly_stats = df.groupby('yearID').agg({\n",
    "    'R/G': 'mean',\n",
    "    'BB%': 'mean',\n",
    "    'K%': 'mean',\n",
    "    'ISO': 'mean'\n",
    "}).reset_index()\n",
    "\n",
    "fig, axes = plt.subplots(2, 2, figsize=(15, 12))\n",
    "metrics = ['R/G', 'BB%', 'K%', 'ISO']\n",
    "titles = ['Carreras por Juego', 'Porcentaje de BB', 'Porcentaje de K', 'Isolated Power']\n",
    "\n",
    "for ax, metric, title in zip(axes.ravel(), metrics, titles):\n",
    "    sns.lineplot(data=yearly_stats, x='yearID', y=metric, ax=ax, marker='o')\n",
    "    ax.set_title(f'Tendencia de {title}')\n",
    "\n",
    "plt.tight_layout()\n",
    "\n",
    "# Guardar las figuras\n",
    "plt.savefig('../presentation/analysis_figures.png')\n"
   ]
  }
 ],
 "metadata": {
  "kernelspec": {
   "display_name": "Python 3 (ipykernel)",
   "language": "python",
   "name": "python3"
  },
  "language_info": {
   "codemirror_mode": {
    "name": "ipython",
    "version": 3
   },
   "file_extension": ".py",
   "mimetype": "text/x-python",
   "name": "python",
   "nbconvert_exporter": "python",
   "pygments_lexer": "ipython3",
   "version": "3.10.13"
  }
 },
 "nbformat": 4,
 "nbformat_minor": 5
}
